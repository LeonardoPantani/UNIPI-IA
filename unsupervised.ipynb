{
 "cells": [
  {
   "cell_type": "code",
   "execution_count": 1,
   "metadata": {},
   "outputs": [],
   "source": [
    "# tolgo i warning dalle print\n",
    "import warnings\n",
    "warnings.filterwarnings(\"ignore\")"
   ]
  },
  {
   "cell_type": "code",
   "execution_count": 2,
   "metadata": {},
   "outputs": [
    {
     "ename": "RuntimeError",
     "evalue": "module was compiled against NumPy C-API version 0x10 (NumPy 1.23) but the running NumPy has C-API version 0xe. Check the section C-API incompatibility at the Troubleshooting ImportError section at https://numpy.org/devdocs/user/troubleshooting-importerror.html#c-api-incompatibility for indications on how to solve this problem.",
     "output_type": "error",
     "traceback": [
      "\u001b[0;31m---------------------------------------------------------------------------\u001b[0m",
      "\u001b[0;31mRuntimeError\u001b[0m                              Traceback (most recent call last)",
      "\u001b[0;31mRuntimeError\u001b[0m: module was compiled against NumPy C-API version 0x10 (NumPy 1.23) but the running NumPy has C-API version 0xe. Check the section C-API incompatibility at the Troubleshooting ImportError section at https://numpy.org/devdocs/user/troubleshooting-importerror.html#c-api-incompatibility for indications on how to solve this problem."
     ]
    }
   ],
   "source": [
    "# importo il dataset grezzo\n",
    "import pandas as pd\n",
    "from sklearn.preprocessing import StandardScaler\n",
    "from sklearn.cluster import DBSCAN\n",
    "import numpy as np\n",
    "\n",
    "df_raw = pd.read_csv(\"UNIPI-IA-dataset.csv\")"
   ]
  },
  {
   "cell_type": "code",
   "execution_count": 3,
   "metadata": {},
   "outputs": [
    {
     "name": "stdout",
     "output_type": "stream",
     "text": [
      "Sample nel Dataset originale: 651191\n",
      "Sample nel Dataset senza duplicati: 641119 (riduzione del 1.55%)\n",
      "Distribuzione delle classi nel dataset:\n",
      "malware: 23645 samples (3.69%)\n",
      "phishing: 94092 samples (14.68%)\n",
      "defacement: 95308 samples (14.87%)\n",
      "benign: 428074 samples (66.77%)\n"
     ]
    }
   ],
   "source": [
    "# definiamo i tipi in uno specifico ordine. Questo serve perché in caso di duplicati, per esempio:\n",
    "# https://www.sito-strano.com/haivintounpremio - malware\n",
    "# https://www.sito-strano.com/haivintounpremio - benign\n",
    "#\n",
    "# rimuoveremmo tutti i sample, tranne il primo. Si è deciso questo perché, in questo contesto,\n",
    "# è preferibile avere un Falso Positivo (FP), manualmente \"correggibile\" dall'utente, che un Falso Negativo (FN),\n",
    "# che potrebbe esporrebbe l'utente ad un sito malevolo.\n",
    "\n",
    "types = [\"malware\", \"phishing\", \"defacement\", \"benign\"]\n",
    "\n",
    "df_raw[\"type\"] = pd.Categorical(df_raw[\"type\"], categories=types, ordered=True)\n",
    "df = df_raw.sort_values(by=\"type\").drop_duplicates(subset=\"url\", keep=\"first\")\n",
    "\n",
    "print(f\"Sample nel Dataset originale: {df_raw.shape[0]}\\nSample nel Dataset senza duplicati: {df.shape[0]} (riduzione del {((df_raw.shape[0] - df.shape[0]) / df_raw.shape[0]) * 100:.2f}%)\")\n",
    "print(\"Distribuzione delle classi nel dataset:\")\n",
    "for type_name in types:\n",
    "    count = df[df['type'] == type_name].shape[0]\n",
    "    percentage = (count / df.shape[0]) * 100\n",
    "    print(f\"{type_name}: {count} samples ({percentage:.2f}%)\")"
   ]
  },
  {
   "cell_type": "code",
   "execution_count": 4,
   "metadata": {},
   "outputs": [
    {
     "name": "stdout",
     "output_type": "stream",
     "text": [
      "Total no. of features: 24\n"
     ]
    }
   ],
   "source": [
    "# extracting 24 features\n",
    "from utils.features_extractors import (extract_feature_ip_use,extract_feature_url_entropy,extract_feature_num_digits,extract_feature_url_length,extract_feature_num_query_parameters,extract_feature_num_fragments,extract_feature_num_percent20,extract_feature_num_at_signs,extract_feature_has_http,extract_feature_has_https,extract_feature_dot_number,extract_feature_num_www, extract_feature_directory_num,extract_feature_embed_domain_number,extract_feature_suspiciousurl,extract_feature_count_percent,extract_feature_count_dash,extract_feature_count_equal,extract_feature_is_shortened,extract_feature_hostname_length,extract_feature_first_directory_length,extract_feature_top_level_domain_length,extract_feature_num_letters,extract_feature_num_subdomains)\n",
    "\n",
    "df['ip_use'] = df['url'].apply(extract_feature_ip_use)\n",
    "df['url_entropy'] = df['url'].apply(extract_feature_url_entropy)\n",
    "df['num_digits'] = df['url'].apply(extract_feature_num_digits)\n",
    "df['url_length'] = df['url'].apply(extract_feature_url_length)\n",
    "df['num_query_parameters'] = df['url'].apply(extract_feature_num_query_parameters)\n",
    "df['num_fragments'] = df['url'].apply(extract_feature_num_fragments)\n",
    "df['num_percent20'] = df['url'].apply(extract_feature_num_percent20)\n",
    "df['num_at_signs'] = df['url'].apply(extract_feature_num_at_signs)\n",
    "df['has_http'] = df['url'].apply(extract_feature_has_http)\n",
    "df['has_https'] = df['url'].apply(extract_feature_has_https)\n",
    "df['dot_number'] = df['url'].apply(extract_feature_dot_number)\n",
    "df['num_www'] = df['url'].apply(extract_feature_num_www)\n",
    "df['directory_num'] = df['url'].apply(extract_feature_directory_num)\n",
    "df['embed_domain_number'] = df['url'].apply(extract_feature_embed_domain_number)\n",
    "df['suspiciousurl'] = df['url'].apply(extract_feature_suspiciousurl)\n",
    "df['count_percent'] = df['url'].apply(extract_feature_count_percent)\n",
    "df['count_dash'] = df['url'].apply(extract_feature_count_dash)\n",
    "df['count_equal'] = df['url'].apply(extract_feature_count_equal)\n",
    "df['is_shortened'] = df['url'].apply(extract_feature_is_shortened)\n",
    "df['hostname_length'] = df['url'].apply(extract_feature_hostname_length)\n",
    "df['first_directory_length'] = df['url'].apply(extract_feature_first_directory_length)\n",
    "df['top_level_domain_length'] = df['url'].apply(extract_feature_top_level_domain_length)\n",
    "df['num_letters'] = df['url'].apply(extract_feature_num_letters)\n",
    "df['num_domains'] = df['url'].apply(extract_feature_num_subdomains)\n",
    "\n",
    "print(f\"Total no. of features: { df.drop(columns=['type', 'url']).shape[1] }\")"
   ]
  },
  {
   "cell_type": "code",
   "execution_count": 5,
   "metadata": {},
   "outputs": [],
   "source": [
    "\n",
    "df = df.drop(columns= [\"count_equal\", \"url_length\"])"
   ]
  },
  {
   "cell_type": "code",
   "execution_count": 6,
   "metadata": {},
   "outputs": [],
   "source": [
    "\n",
    "\n",
    "binary_features = ['ip_use', 'has_http', 'has_https', 'suspiciousurl', 'is_shortened']\n",
    "\n",
    "numeric_features = [col for col in df.columns if col not in binary_features + ['type', 'url']]\n",
    "\n",
    "scaler = StandardScaler()\n",
    "y = df['type']\n",
    "df_scaled = df.copy()  \n",
    "df_scaled[numeric_features] = scaler.fit_transform(df[numeric_features])  \n",
    "\n",
    "X = df_scaled.drop(columns=['type', 'url'])  \n",
    "\n",
    "\n",
    "X_sampled = X#.sample(n=12000, random_state=42)\n",
    "y_sampled = y[X_sampled.index]"
   ]
  },
  {
   "cell_type": "code",
   "execution_count": 7,
   "metadata": {},
   "outputs": [
    {
     "name": "stdout",
     "output_type": "stream",
     "text": [
      "\n",
      "Computing multiple Hopkins Statistics...\n"
     ]
    },
    {
     "name": "stderr",
     "output_type": "stream",
     "text": [
      "100%|██████████| 10/10 [11:54<00:00, 71.42s/it]"
     ]
    },
    {
     "name": "stdout",
     "output_type": "stream",
     "text": [
      "\n",
      "Hopkins Statistic (media di 10 prove): 0.004 ± 0.001\n"
     ]
    },
    {
     "name": "stderr",
     "output_type": "stream",
     "text": [
      "\n"
     ]
    }
   ],
   "source": [
    "import numpy as np\n",
    "from pyclustertend import hopkins\n",
    "from tqdm import tqdm\n",
    "\n",
    "X_sampled_array = X_sampled.to_numpy()\n",
    "sampling_size = int(0.1*len(X_sampled_array))\n",
    "hopkins_score = hopkins(X_sampled_array, sampling_size)\n",
    "n_trials = 10\n",
    "hopkins_scores = []\n",
    "print(\"\\nComputing multiple Hopkins Statistics...\")\n",
    "for _ in tqdm(range(n_trials)):\n",
    "    X_subset = X_sampled.sample(n=sampling_size, replace=False).to_numpy()\n",
    "    hopkins_scores.append(hopkins(X_subset, sampling_size))\n",
    "avg_hopkins = np.mean(hopkins_scores)\n",
    "std_hopkins = np.std(hopkins_scores)\n",
    "print(f\"\\nHopkins Statistic (media di {n_trials} prove): {avg_hopkins:.3f} ± {std_hopkins:.3f}\")\n"
   ]
  },
  {
   "cell_type": "markdown",
   "metadata": {},
   "source": []
  },
  {
   "cell_type": "markdown",
   "metadata": {},
   "source": [
    "Applichiamo ora il DBSCAN, iniziando con min_pts=2*n=44, dove n è il nostro numero di features"
   ]
  },
  {
   "cell_type": "code",
   "execution_count": null,
   "metadata": {},
   "outputs": [
    {
     "ename": "",
     "evalue": "",
     "output_type": "error",
     "traceback": [
      "\u001b[1;31mThe Kernel crashed while executing code in the current cell or a previous cell. \n",
      "\u001b[1;31mPlease review the code in the cell(s) to identify a possible cause of the failure. \n",
      "\u001b[1;31mClick <a href='https://aka.ms/vscodeJupyterKernelCrash'>here</a> for more info. \n",
      "\u001b[1;31mView Jupyter <a href='command:jupyter.viewOutput'>log</a> for further details."
     ]
    }
   ],
   "source": [
    "import matplotlib.pyplot as plt\n",
    "from sklearn.decomposition import PCA\n",
    "from sklearn.cluster import DBSCAN\n",
    "import numpy as np\n",
    "\n",
    "\n",
    "pca = PCA(n_components=2)\n",
    "X_sampled_pca = pca.fit_transform(X_sampled)\n"
   ]
  },
  {
   "cell_type": "code",
   "execution_count": null,
   "metadata": {},
   "outputs": [],
   "source": [
    "from sklearn.metrics import homogeneity_completeness_v_measure, silhouette_score\n",
    "\n",
    "def apply_dbscan(eps, min_samples):\n",
    "    dbscan = DBSCAN(eps=eps, min_samples=min_samples, n_jobs=-1)\n",
    "    clusters = dbscan.fit_predict(X_sampled)\n",
    "    unique_clusters, cluster_counts = np.unique(clusters, return_counts=True)\n",
    "    \n",
    "    print(f\"DBSCAN con eps={eps} e min_samples={min_samples}\")\n",
    "    print(\"Number of clusters found:\", len(unique_clusters) - 1) \n",
    "    print(\"\\nCluster distribution:\")\n",
    "    for cluster, count in zip(unique_clusters, cluster_counts):\n",
    "        if cluster == -1:\n",
    "            print(f\"Noise points: {count}\")\n",
    "        else:\n",
    "            print(f\"Cluster {cluster}: {count}\")\n",
    "    \n",
    "    outliers = X_sampled[clusters == -1]\n",
    "    outlier_percentage = (len(outliers) / len(X_sampled)) * 100  \n",
    "    print(f\"\\nPercentage of outliers: {outlier_percentage:.2f}%\\n\")\n",
    "    \n",
    "    try:\n",
    "        homogeneity, completeness, v_measure = homogeneity_completeness_v_measure(y_sampled, clusters)\n",
    "        \n",
    "        print(f\"Homogeneity: {homogeneity:.3f}\")\n",
    "        print(f\"Completeness: {completeness:.3f}\")\n",
    "        print(f\"V-Measure: {v_measure:.3f}\")\n",
    "\n",
    "    except NameError:\n",
    "        print(\"Le etichette vere 'y_sampled' non sono disponibili. Le metriche Homogeneity, Completeness e V-Measure non possono essere calcolate.\")\n",
    "    except Exception as e:\n",
    "        print(f\"Errore nel calcolo delle metriche: {e}\")\n",
    "    \n",
    "    clustered_points = X_sampled_pca[clusters != -1]\n",
    "    cluster_labels = clusters[clusters != -1]\n",
    "    \n",
    "    plt.figure(figsize=(8, 6))\n",
    "    scatter = plt.scatter(clustered_points[:, 0], clustered_points[:, 1],\n",
    "                          c=cluster_labels, cmap='viridis', s=50)\n",
    "    \n",
    "    plt.xlabel('Principal Component 1')\n",
    "    plt.ylabel('Principal Component 2')\n",
    "    plt.title(f'DBSCAN Clustering (eps={eps})/(min_samples={min_samples})')\n",
    "    plt.colorbar(scatter, label='Cluster')\n",
    "    plt.text(0.95, 0.01, f'Outliers: {outlier_percentage:.2f}%', \n",
    "             verticalalignment='bottom', horizontalalignment='right',\n",
    "             transform=plt.gca().transAxes,\n",
    "             color='red', fontsize=12, bbox=dict(facecolor='white', alpha=0.5))\n",
    "    \n",
    "    plt.show()\n",
    "\n",
    "\n",
    "#apply_dbscan(eps=0.5, min_samples=44)\n",
    "#apply_dbscan(eps=1, min_samples=44)\n",
    "#apply_dbscan(eps=3, min_samples=44)\n",
    "apply_dbscan(eps=6.5, min_samples=44)\n"
   ]
  },
  {
   "cell_type": "code",
   "execution_count": null,
   "metadata": {},
   "outputs": [],
   "source": []
  },
  {
   "cell_type": "code",
   "execution_count": 10,
   "metadata": {},
   "outputs": [
    {
     "data": {
      "image/png": "[encoded data removed]",
      "text/plain": [
       "<Figure size 1000x600 with 1 Axes>"
      ]
     },
     "metadata": {},
     "output_type": "display_data"
    }
   ],
   "source": [
    "import matplotlib.pyplot as plt\n",
    "from sklearn.neighbors import NearestNeighbors\n",
    "\n",
    "\n",
    "min_samples = 44\n",
    "\n",
    "neighbors = NearestNeighbors(n_neighbors=min_samples)\n",
    "neighbors_fit = neighbors.fit(X_sampled_array)\n",
    "distances, indices = neighbors_fit.kneighbors(X_sampled_array)\n",
    "\n",
    "distances = np.sort(distances[:, min_samples-1], axis=0)\n",
    "plt.figure(figsize=(10, 6))\n",
    "plt.plot(distances)\n",
    "plt.xlabel('Data Points ordinati')\n",
    "plt.ylabel('Distanza Eps')\n",
    "plt.title('Elbow Method per determinare Eps in DBSCAN')\n",
    "plt.grid(True)\n",
    "plt.show()"
   ]
  },
  {
   "cell_type": "code",
   "execution_count": null,
   "metadata": {},
   "outputs": [],
   "source": []
  }
 ],
 "metadata": {
  "kernelspec": {
   "display_name": "ia",
   "language": "python",
   "name": "python3"
  },
  "language_info": {
   "codemirror_mode": {
    "name": "ipython",
    "version": 3
   },
   "file_extension": ".py",
   "mimetype": "text/x-python",
   "name": "python",
   "nbconvert_exporter": "python",
   "pygments_lexer": "ipython3",
   "version": "3.9.21"
  }
 },
 "nbformat": 4,
 "nbformat_minor": 2
}
